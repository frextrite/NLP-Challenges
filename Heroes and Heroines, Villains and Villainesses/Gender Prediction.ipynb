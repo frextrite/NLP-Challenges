{
 "cells": [
  {
   "cell_type": "code",
   "execution_count": null,
   "metadata": {},
   "outputs": [],
   "source": [
    "import re"
   ]
  },
  {
   "cell_type": "code",
   "execution_count": null,
   "metadata": {},
   "outputs": [],
   "source": [
    "male_words = ['he', 'him', 'himself', 'man', 'men', 'his']\n",
    "female_words = ['she', 'her', 'herself', 'woman', 'women', 'hers']"
   ]
  },
  {
   "cell_type": "code",
   "execution_count": null,
   "metadata": {},
   "outputs": [],
   "source": [
    "male_prefix = ['mr']\n",
    "female_prefix = ['miss', 'mis', 'mrs']"
   ]
  },
  {
   "cell_type": "code",
   "execution_count": null,
   "metadata": {},
   "outputs": [],
   "source": [
    "file = open('corpus.txt')"
   ]
  },
  {
   "cell_type": "code",
   "execution_count": null,
   "metadata": {},
   "outputs": [],
   "source": [
    "def process_sentence(sentence):\n",
    "    # convert to lower\n",
    "    line = sentence.lower()\n",
    "    # remove extra spaces\n",
    "    line = line.strip()\n",
    "    # create a space between word and the punctuation following it\n",
    "    line = re.sub(r\"([?.!,¿'])\", r\" \\1 \", line)\n",
    "    # replace everything with space except (a-Z, A-Z, 0-9)\n",
    "    # that is remove all punctuations\n",
    "    line = re.sub(r\"[^a-zA-Z0-9]+\", \" \", line)\n",
    "    # convert multiple spaces to a single space\n",
    "    line = re.sub(r'[\" \"]+', \" \", line)\n",
    "    # remove extra spaces\n",
    "    line = line.strip()\n",
    "\n",
    "    # return the line\n",
    "    return line"
   ]
  },
  {
   "cell_type": "code",
   "execution_count": null,
   "metadata": {},
   "outputs": [],
   "source": [
    "words = []"
   ]
  },
  {
   "cell_type": "code",
   "execution_count": null,
   "metadata": {},
   "outputs": [],
   "source": [
    "lines = []"
   ]
  },
  {
   "cell_type": "code",
   "execution_count": null,
   "metadata": {},
   "outputs": [],
   "source": [
    "for line in file:\n",
    "    lines.append(process_sentence(line))"
   ]
  },
  {
   "cell_type": "code",
   "execution_count": null,
   "metadata": {},
   "outputs": [],
   "source": [
    "for line in lines:\n",
    "    for word in line.split(' '):\n",
    "        #if word not in words:\n",
    "            #words.add(word)\n",
    "        words.append(word)"
   ]
  },
  {
   "cell_type": "code",
   "execution_count": null,
   "metadata": {},
   "outputs": [],
   "source": [
    "len(words)"
   ]
  },
  {
   "cell_type": "code",
   "execution_count": null,
   "metadata": {},
   "outputs": [],
   "source": [
    "N = int(input())"
   ]
  },
  {
   "cell_type": "code",
   "execution_count": null,
   "metadata": {},
   "outputs": [],
   "source": [
    "names = []"
   ]
  },
  {
   "cell_type": "code",
   "execution_count": null,
   "metadata": {},
   "outputs": [],
   "source": [
    "for i in range(N):\n",
    "    names.append(input().lower())"
   ]
  },
  {
   "cell_type": "code",
   "execution_count": null,
   "metadata": {},
   "outputs": [],
   "source": [
    "name = 'turner'\n",
    "len_to_check = 20\n",
    "score = 0\n",
    "for i, word in enumerate(words):\n",
    "    if word == name:\n",
    "        s = i - len_to_check if i > len_to_check else 0\n",
    "        e = i + len_to_check if i < len(words) - len_to_check else 0\n",
    "        words_to_check = words[s:e]\n",
    "        for w in words_to_check:\n",
    "            if w in male_prefix:\n",
    "                score += 100\n",
    "            if w in female_prefix:\n",
    "                score -= 100\n",
    "            if w in male_words:\n",
    "                score += 5\n",
    "            if w in female_words:\n",
    "                score -= 5"
   ]
  },
  {
   "cell_type": "code",
   "execution_count": null,
   "metadata": {
    "scrolled": true
   },
   "outputs": [],
   "source": [
    "score"
   ]
  }
 ],
 "metadata": {
  "kernelspec": {
   "display_name": "Python 3",
   "language": "python",
   "name": "python3"
  },
  "language_info": {
   "codemirror_mode": {
    "name": "ipython",
    "version": 3
   },
   "file_extension": ".py",
   "mimetype": "text/x-python",
   "name": "python",
   "nbconvert_exporter": "python",
   "pygments_lexer": "ipython3",
   "version": "3.6.7"
  }
 },
 "nbformat": 4,
 "nbformat_minor": 2
}
