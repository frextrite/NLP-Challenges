{
 "cells": [
  {
   "cell_type": "code",
   "execution_count": 1,
   "metadata": {},
   "outputs": [],
   "source": [
    "import re\n",
    "import numpy as np\n",
    "from sklearn.feature_extraction.text import TfidfVectorizer\n",
    "from sklearn.metrics.pairwise import cosine_similarity"
   ]
  },
  {
   "cell_type": "code",
   "execution_count": 2,
   "metadata": {},
   "outputs": [
    {
     "name": "stdout",
     "output_type": "stream",
     "text": [
      "5\n"
     ]
    }
   ],
   "source": [
    "N = int(input())"
   ]
  },
  {
   "cell_type": "code",
   "execution_count": null,
   "metadata": {},
   "outputs": [],
   "source": [
    "titles = []\n",
    "for i in range(N):\n",
    "    titles.append(input())"
   ]
  },
  {
   "cell_type": "code",
   "execution_count": null,
   "metadata": {},
   "outputs": [],
   "source": [
    "input()"
   ]
  },
  {
   "cell_type": "code",
   "execution_count": null,
   "metadata": {
    "scrolled": true
   },
   "outputs": [],
   "source": [
    "descriptions = []\n",
    "for i in range(N):\n",
    "    description.append(input())"
   ]
  },
  {
   "cell_type": "code",
   "execution_count": 3,
   "metadata": {},
   "outputs": [],
   "source": [
    "titles = ['How to Be a Domestic Goddess : Baking and the Art of Comfort Cooking (Paperback)',\n",
    "'Embedded / Real-Time Systems 1st Edition (Paperback)',\n",
    "'The Merchant of Venice (Paperback)',\n",
    "'Lose a Kilo a Week (Paperback)',\n",
    "'Few Things Left Unsaid (Paperback)']"
   ]
  },
  {
   "cell_type": "code",
   "execution_count": 4,
   "metadata": {},
   "outputs": [],
   "source": [
    "descriptions = ['Today the embedded systems are ubiquitous in occurrence, most significant in function and project an absolutely promising picture of developments in the near future.',\n",
    "'The Merchant Of Venice is one of Shakespeare\\'s best known plays.',\n",
    "'How To Be A Domestic Goddess: Baking and the Art of Comfort Cooking is a bestselling cookbook by the famous chef Nigella Lawson who aims to introduce the art of baking through text with an emphasis.',\n",
    "'Lose A Kilo A Week is a detailed diet and weight loss plan, and also shows how to maintain the ideal weight after reaching it.',\n",
    "'Few Things Left Unsaid is a story of love, romance, and heartbreak.']"
   ]
  },
  {
   "cell_type": "code",
   "execution_count": 5,
   "metadata": {},
   "outputs": [],
   "source": [
    "def process_sentence(sentence):\n",
    "    # convert to lower\n",
    "    line = sentence.lower()\n",
    "    # remove extra spaces\n",
    "    line = line.strip()\n",
    "    # create a space between word and the punctuation following it\n",
    "    line = re.sub(r\"([?.!,¿'])\", r\" \\1 \", line)\n",
    "    # replace everything with space except (a-Z, A-Z, 0-9)\n",
    "    # that is remove all punctuations\n",
    "    line = re.sub(r\"[^a-zA-Z0-9]+\", \" \", line)\n",
    "    # convert multiple spaces to a single space\n",
    "    line = re.sub(r'[\" \"]+', \" \", line)\n",
    "    # remove extra spaces\n",
    "    line = line.strip()\n",
    "\n",
    "    # return the line\n",
    "    return line"
   ]
  },
  {
   "cell_type": "code",
   "execution_count": 6,
   "metadata": {},
   "outputs": [],
   "source": [
    "def return_corpus(sentence_list):\n",
    "    corpus = set()\n",
    "    for sentence in sentence_list:\n",
    "        _sentence = process_sentence(sentence)\n",
    "        for word in _sentence.split(' '):\n",
    "            if word not in corpus:\n",
    "                corpus.add(word)"
   ]
  },
  {
   "cell_type": "code",
   "execution_count": 7,
   "metadata": {},
   "outputs": [],
   "source": [
    "corpusA = return_corpus(titles)\n",
    "corpusB = return_corpus(descriptions)"
   ]
  },
  {
   "cell_type": "code",
   "execution_count": 8,
   "metadata": {},
   "outputs": [],
   "source": [
    "tfidf_vectorizer = TfidfVectorizer(ngram_range=(1,5), stop_words='english', max_df=0.5, norm='l2')"
   ]
  },
  {
   "cell_type": "code",
   "execution_count": 9,
   "metadata": {},
   "outputs": [],
   "source": [
    "vectorized_matrix = tfidf_vectorizer.fit_transform(titles + descriptions)"
   ]
  },
  {
   "cell_type": "code",
   "execution_count": 10,
   "metadata": {},
   "outputs": [
    {
     "data": {
      "text/plain": [
       "(10, 272)"
      ]
     },
     "execution_count": 10,
     "metadata": {},
     "output_type": "execute_result"
    }
   ],
   "source": [
    "vectorized_matrix.shape"
   ]
  },
  {
   "cell_type": "code",
   "execution_count": 11,
   "metadata": {},
   "outputs": [
    {
     "name": "stdout",
     "output_type": "stream",
     "text": [
      "2\n",
      "3\n",
      "1\n",
      "4\n",
      "5\n"
     ]
    }
   ],
   "source": [
    "for description in vectorized_matrix[N:, :]:\n",
    "    title = vectorized_matrix[:N, :]\n",
    "    similarity = cosine_similarity(title, description)\n",
    "    max_index = np.argmax(similarity)\n",
    "    print(max_index+1)"
   ]
  }
 ],
 "metadata": {
  "kernelspec": {
   "display_name": "Python 3",
   "language": "python",
   "name": "python3"
  },
  "language_info": {
   "codemirror_mode": {
    "name": "ipython",
    "version": 3
   },
   "file_extension": ".py",
   "mimetype": "text/x-python",
   "name": "python",
   "nbconvert_exporter": "python",
   "pygments_lexer": "ipython3",
   "version": "3.6.7"
  }
 },
 "nbformat": 4,
 "nbformat_minor": 2
}
